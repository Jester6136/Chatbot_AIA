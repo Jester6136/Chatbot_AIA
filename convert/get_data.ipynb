{
 "cells": [
  {
   "cell_type": "code",
   "execution_count": 3,
   "metadata": {},
   "outputs": [
    {
     "ename": "FileNotFoundError",
     "evalue": "[Errno 2] No such file or directory: 'D:\\\\Chatbot\\\\Chatbot-University-Consultancy\\\\data\\\\invest_nlu_export.json'",
     "output_type": "error",
     "traceback": [
      "\u001b[0;31m---------------------------------------------------------------------------\u001b[0m",
      "\u001b[0;31mFileNotFoundError\u001b[0m                         Traceback (most recent call last)",
      "\u001b[0;32m/tmp/ipykernel_37414/2653907055.py\u001b[0m in \u001b[0;36m<module>\u001b[0;34m\u001b[0m\n\u001b[1;32m      1\u001b[0m root = open(\n\u001b[0;32m----> 2\u001b[0;31m     \"D:\\Chatbot\\Chatbot-University-Consultancy\\data\\invest_nlu_export.json\", 'r', encoding=\"UTF-8\")\n\u001b[0m\u001b[1;32m      3\u001b[0m \u001b[0mroot_lines\u001b[0m \u001b[0;34m=\u001b[0m \u001b[0mroot\u001b[0m\u001b[0;34m.\u001b[0m\u001b[0mreadlines\u001b[0m\u001b[0;34m(\u001b[0m\u001b[0;34m)\u001b[0m\u001b[0;34m\u001b[0m\u001b[0;34m\u001b[0m\u001b[0m\n\u001b[1;32m      4\u001b[0m \u001b[0mprint\u001b[0m\u001b[0;34m(\u001b[0m\u001b[0mlen\u001b[0m\u001b[0;34m(\u001b[0m\u001b[0mroot_lines\u001b[0m\u001b[0;34m)\u001b[0m\u001b[0;34m)\u001b[0m\u001b[0;34m\u001b[0m\u001b[0;34m\u001b[0m\u001b[0m\n",
      "\u001b[0;31mFileNotFoundError\u001b[0m: [Errno 2] No such file or directory: 'D:\\\\Chatbot\\\\Chatbot-University-Consultancy\\\\data\\\\invest_nlu_export.json'"
     ]
    }
   ],
   "source": [
    "root = open(\n",
    "    \"D:\\Chatbot\\Chatbot-University-Consultancy\\data\\invest_nlu_export.json\", 'r', encoding=\"UTF-8\")\n",
    "root_lines = root.readlines()\n",
    "print(len(root_lines))"
   ]
  },
  {
   "cell_type": "code",
   "execution_count": 4,
   "metadata": {},
   "outputs": [
    {
     "name": "stdout",
     "output_type": "stream",
     "text": [
      "\u001b[0m\u001b[01;32mentities.csv\u001b[0m*  \u001b[01;32mget_data.ipynb\u001b[0m*\n"
     ]
    }
   ],
   "source": [
    "ls"
   ]
  },
  {
   "cell_type": "code",
   "execution_count": 6,
   "metadata": {},
   "outputs": [
    {
     "name": "stdout",
     "output_type": "stream",
     "text": [
      "Collecting pandas\n",
      "  Using cached pandas-1.3.5-cp37-cp37m-manylinux_2_17_x86_64.manylinux2014_x86_64.whl (11.3 MB)\n",
      "Requirement already satisfied: python-dateutil>=2.7.3 in /home/ba/.pyenv/versions/3.7.9/lib/python3.7/site-packages (from pandas) (2.8.2)\n",
      "Collecting numpy>=1.17.3; platform_machine != \"aarch64\" and platform_machine != \"arm64\" and python_version < \"3.10\"\n",
      "  Using cached numpy-1.21.6-cp37-cp37m-manylinux_2_12_x86_64.manylinux2010_x86_64.whl (15.7 MB)\n",
      "Collecting pytz>=2017.3\n",
      "  Using cached pytz-2022.2.1-py2.py3-none-any.whl (500 kB)\n",
      "Requirement already satisfied: six>=1.5 in /home/ba/.pyenv/versions/3.7.9/lib/python3.7/site-packages (from python-dateutil>=2.7.3->pandas) (1.16.0)\n",
      "Installing collected packages: numpy, pytz, pandas\n",
      "Successfully installed numpy-1.21.6 pandas-1.3.5 pytz-2022.2.1\n",
      "\u001b[33mWARNING: You are using pip version 20.1.1; however, version 22.2.2 is available.\n",
      "You should consider upgrading via the '/home/ba/.pyenv/versions/3.7.9/bin/python -m pip install --upgrade pip' command.\u001b[0m\n",
      "Note: you may need to restart the kernel to use updated packages.\n"
     ]
    }
   ],
   "source": [
    "pip install pandas"
   ]
  },
  {
   "cell_type": "code",
   "execution_count": 7,
   "metadata": {},
   "outputs": [
    {
     "data": {
      "text/html": [
       "<div>\n",
       "<style scoped>\n",
       "    .dataframe tbody tr th:only-of-type {\n",
       "        vertical-align: middle;\n",
       "    }\n",
       "\n",
       "    .dataframe tbody tr th {\n",
       "        vertical-align: top;\n",
       "    }\n",
       "\n",
       "    .dataframe thead th {\n",
       "        text-align: right;\n",
       "    }\n",
       "</style>\n",
       "<table border=\"1\" class=\"dataframe\">\n",
       "  <thead>\n",
       "    <tr style=\"text-align: right;\">\n",
       "      <th></th>\n",
       "      <th>major_name</th>\n",
       "      <th>type_edu</th>\n",
       "      <th>point</th>\n",
       "      <th>career</th>\n",
       "      <th>tuition</th>\n",
       "      <th>subject_group</th>\n",
       "      <th>criteria</th>\n",
       "    </tr>\n",
       "  </thead>\n",
       "  <tbody>\n",
       "    <tr>\n",
       "      <th>0</th>\n",
       "      <td>kỹ thuật điện</td>\n",
       "      <td>chính quy@đại trà@kỹ sư tài năng</td>\n",
       "      <td>21.0</td>\n",
       "      <td>thiết kế thiết bị điện và điện tử công suất@th...</td>\n",
       "      <td>550000</td>\n",
       "      <td>A00@A01</td>\n",
       "      <td>110</td>\n",
       "    </tr>\n",
       "    <tr>\n",
       "      <th>1</th>\n",
       "      <td>kỹ thuật hóa học</td>\n",
       "      <td>chính quy@đại trà@kỹ sư tài năng</td>\n",
       "      <td>21.5</td>\n",
       "      <td>quản lý vận hành và vận hành các hệ thống thiế...</td>\n",
       "      <td>550000</td>\n",
       "      <td>B00@D07</td>\n",
       "      <td>130</td>\n",
       "    </tr>\n",
       "    <tr>\n",
       "      <th>2</th>\n",
       "      <td>kỹ thuật hàng không</td>\n",
       "      <td>chất lượng cao@tiên tiến</td>\n",
       "      <td>23.0</td>\n",
       "      <td>quản lý điều hành hoạt động bảo dưỡng máy bay@...</td>\n",
       "      <td>550000</td>\n",
       "      <td>A01@A00</td>\n",
       "      <td>190</td>\n",
       "    </tr>\n",
       "    <tr>\n",
       "      <th>3</th>\n",
       "      <td>công nghệ may</td>\n",
       "      <td>chính quy@đại trà</td>\n",
       "      <td>24.0</td>\n",
       "      <td>thiết kế trong các dây chuyền sản xuất@thiết k...</td>\n",
       "      <td>550000</td>\n",
       "      <td>A01@D07</td>\n",
       "      <td>230</td>\n",
       "    </tr>\n",
       "    <tr>\n",
       "      <th>4</th>\n",
       "      <td>công nghệ sinh học</td>\n",
       "      <td>chính quy@đại trà@kỹ sư tài năng</td>\n",
       "      <td>25.5</td>\n",
       "      <td>nghiên cứu trong phòng thí nghiệm ở các trường...</td>\n",
       "      <td>550000</td>\n",
       "      <td>B00@A01</td>\n",
       "      <td>290</td>\n",
       "    </tr>\n",
       "  </tbody>\n",
       "</table>\n",
       "</div>"
      ],
      "text/plain": [
       "            major_name                          type_edu  point  \\\n",
       "0        kỹ thuật điện  chính quy@đại trà@kỹ sư tài năng   21.0   \n",
       "1     kỹ thuật hóa học  chính quy@đại trà@kỹ sư tài năng   21.5   \n",
       "2  kỹ thuật hàng không          chất lượng cao@tiên tiến   23.0   \n",
       "3        công nghệ may                 chính quy@đại trà   24.0   \n",
       "4   công nghệ sinh học  chính quy@đại trà@kỹ sư tài năng   25.5   \n",
       "\n",
       "                                              career  tuition subject_group  \\\n",
       "0  thiết kế thiết bị điện và điện tử công suất@th...   550000       A00@A01   \n",
       "1  quản lý vận hành và vận hành các hệ thống thiế...   550000       B00@D07   \n",
       "2  quản lý điều hành hoạt động bảo dưỡng máy bay@...   550000       A01@A00   \n",
       "3  thiết kế trong các dây chuyền sản xuất@thiết k...   550000       A01@D07   \n",
       "4  nghiên cứu trong phòng thí nghiệm ở các trường...   550000       B00@A01   \n",
       "\n",
       "   criteria  \n",
       "0       110  \n",
       "1       130  \n",
       "2       190  \n",
       "3       230  \n",
       "4       290  "
      ]
     },
     "execution_count": 7,
     "metadata": {},
     "output_type": "execute_result"
    }
   ],
   "source": [
    "import pandas as pd\n",
    "df = pd.read_csv(\"entities.csv\", encoding=\"utf-8\")\n",
    "df.head()\n"
   ]
  },
  {
   "cell_type": "code",
   "execution_count": 2,
   "metadata": {},
   "outputs": [],
   "source": [
    "f = open('examples.txt', 'w', encoding='utf-8')\n",
    "for line in root_lines:\n",
    "    f.write(line.split(',')[-2].replace('\"text\":\"','').replace('\"',''))\n",
    "    f.write('\\n')"
   ]
  },
  {
   "cell_type": "code",
   "execution_count": 8,
   "metadata": {},
   "outputs": [
    {
     "data": {
      "text/plain": [
       "12"
      ]
     },
     "execution_count": 8,
     "metadata": {},
     "output_type": "execute_result"
    }
   ],
   "source": [
    "major_name = list(df.major_name)\n",
    "len(major_name)\n"
   ]
  },
  {
   "cell_type": "code",
   "execution_count": 11,
   "metadata": {},
   "outputs": [],
   "source": [
    "f = open(\"major_info.txt\", 'w', encoding=\"UTF-8\")\n",
    "for major in major_name:\n",
    "    f.write('    - cho hỏi ngành ['+str(major)+\"](major_name)\"+'\\n')\n",
    "f.close()"
   ]
  },
  {
   "cell_type": "code",
   "execution_count": 4,
   "metadata": {},
   "outputs": [],
   "source": []
  },
  {
   "cell_type": "code",
   "execution_count": 47,
   "metadata": {},
   "outputs": [],
   "source": [
    "f = open(\"major_type_edu.txt\", 'w', encoding=\"UTF-8\")\n",
    "for major in major_name[:17]:\n",
    "    f.write('Cho em hỏi ngành ['+str(major)+\"](major_name) đào tạo những hệ nào ạ\"+'\\n')\n",
    "for major in major_name[17:]:\n",
    "    f.write('Ngành ['+str(major) +\n",
    "            \"](major_name) đào tạo những hệ nào ạ\"+'\\n')"
   ]
  },
  {
   "cell_type": "code",
   "execution_count": 49,
   "metadata": {},
   "outputs": [],
   "source": [
    "f = open(\"major_point.txt\", 'w', encoding=\"UTF-8\")\n",
    "for major in major_name[:10]:\n",
    "    f.write('Cho em hỏi ngành ['+str(major) +\n",
    "            \"](major_name) năm nay lấy bao nhiêu điểm ạ\"+'\\n')\n",
    "for major in major_name[10:20]:\n",
    "    f.write('Điểm sàn ngành ['+str(major) +\n",
    "            \"](major_name)\"+'\\n')\n",
    "for major in major_name[20:]:\n",
    "    f.write('Năm nay ngành ['+str(major) +\n",
    "            \"](major_name) lấy bao nhiêu điểm ạ\"+'\\n')\n"
   ]
  },
  {
   "cell_type": "code",
   "execution_count": 54,
   "metadata": {},
   "outputs": [],
   "source": [
    "f = open(\"major_career.txt\", 'w', encoding=\"UTF-8\")\n",
    "for major in major_name[:17]:\n",
    "    f.write('Cho em hỏi cơ hội làm việc của ngành ['+str(major) +\n",
    "            \"](major_name)\"+'\\n')\n",
    "for major in major_name[17:]:\n",
    "    f.write('Học xong ngành ['+str(major) +\n",
    "            \"](major_name) thì làm gì\"+'\\n')\n"
   ]
  },
  {
   "cell_type": "code",
   "execution_count": 58,
   "metadata": {},
   "outputs": [],
   "source": [
    "f = open(\"major_tuition.txt\", 'w', encoding=\"UTF-8\")\n",
    "for major in major_name:\n",
    "    f.write('Học phí của ngành ['+str(major) +\n",
    "            \"](major_name)\"+'\\n')\n"
   ]
  },
  {
   "cell_type": "code",
   "execution_count": 62,
   "metadata": {},
   "outputs": [],
   "source": [
    "f = open(\"major_subject_group.txt\", 'w', encoding=\"UTF-8\")\n",
    "for major in major_name[:17]:\n",
    "    f.write('Em muốn học ngành ['+str(major) +\n",
    "            \"](major_name) thì theo khối gì ạ\"+'\\n')\n",
    "for major in major_name[17:]:\n",
    "    f.write('Ngành ['+str(major) +\n",
    "            \"](major_name) thi khối gì\"+'\\n')\n"
   ]
  },
  {
   "cell_type": "code",
   "execution_count": 68,
   "metadata": {},
   "outputs": [],
   "source": [
    "f = open(\"major_criteria.txt\", 'w', encoding=\"UTF-8\")\n",
    "for major in major_name[:10]:\n",
    "    f.write('Cho em hỏi ngành ['+str(major) +\n",
    "            \"](major_name) năm nay lấy bao nhiêu chỉ tiêu\"+'\\n')\n",
    "for major in major_name[10:20]:\n",
    "    f.write('Chỉ tiêu ngành ['+str(major) +\n",
    "            \"](major_name)\"+'\\n')\n",
    "for major in major_name[20:]:\n",
    "    f.write('Ngành ['+str(major) +\n",
    "            \"](major_name) của trường mình nhận bao nhiêu sinh viên ạ\"+'\\n')\n"
   ]
  }
 ],
 "metadata": {
  "kernelspec": {
   "display_name": "Python 3.7.9 64-bit ('3.7.9')",
   "language": "python",
   "name": "python3"
  },
  "language_info": {
   "codemirror_mode": {
    "name": "ipython",
    "version": 3
   },
   "file_extension": ".py",
   "mimetype": "text/x-python",
   "name": "python",
   "nbconvert_exporter": "python",
   "pygments_lexer": "ipython3",
   "version": "3.7.9"
  },
  "orig_nbformat": 4,
  "vscode": {
   "interpreter": {
    "hash": "33deb51be1a01ef6ba4c213090fbd02a7cf0017a3e99667686b058ccdc2b0b16"
   }
  }
 },
 "nbformat": 4,
 "nbformat_minor": 2
}
