{
 "cells": [
  {
   "cell_type": "code",
   "execution_count": 65,
   "metadata": {},
   "outputs": [
    {
     "ename": "FileNotFoundError",
     "evalue": "[Errno 2] No such file or directory: 'D:\\\\Chatbot\\\\Chatbot-University-Consultancy\\\\data\\\\invest_nlu_export.json'",
     "output_type": "error",
     "traceback": [
      "\u001b[0;31m---------------------------------------------------------------------------\u001b[0m",
      "\u001b[0;31mFileNotFoundError\u001b[0m                         Traceback (most recent call last)",
      "\u001b[0;32m/tmp/ipykernel_14688/2653907055.py\u001b[0m in \u001b[0;36m<module>\u001b[0;34m\u001b[0m\n\u001b[1;32m      1\u001b[0m root = open(\n\u001b[0;32m----> 2\u001b[0;31m     \"D:\\Chatbot\\Chatbot-University-Consultancy\\data\\invest_nlu_export.json\", 'r', encoding=\"UTF-8\")\n\u001b[0m\u001b[1;32m      3\u001b[0m \u001b[0mroot_lines\u001b[0m \u001b[0;34m=\u001b[0m \u001b[0mroot\u001b[0m\u001b[0;34m.\u001b[0m\u001b[0mreadlines\u001b[0m\u001b[0;34m(\u001b[0m\u001b[0;34m)\u001b[0m\u001b[0;34m\u001b[0m\u001b[0;34m\u001b[0m\u001b[0m\n\u001b[1;32m      4\u001b[0m \u001b[0mprint\u001b[0m\u001b[0;34m(\u001b[0m\u001b[0mlen\u001b[0m\u001b[0;34m(\u001b[0m\u001b[0mroot_lines\u001b[0m\u001b[0;34m)\u001b[0m\u001b[0;34m)\u001b[0m\u001b[0;34m\u001b[0m\u001b[0;34m\u001b[0m\u001b[0m\n",
      "\u001b[0;31mFileNotFoundError\u001b[0m: [Errno 2] No such file or directory: 'D:\\\\Chatbot\\\\Chatbot-University-Consultancy\\\\data\\\\invest_nlu_export.json'"
     ]
    }
   ],
   "source": [
    "root = open(\n",
    "    \"D:\\Chatbot\\Chatbot-University-Consultancy\\data\\invest_nlu_export.json\", 'r', encoding=\"UTF-8\")\n",
    "root_lines = root.readlines()\n",
    "print(len(root_lines))"
   ]
  },
  {
   "cell_type": "code",
   "execution_count": null,
   "metadata": {},
   "outputs": [
    {
     "name": "stdout",
     "output_type": "stream",
     "text": [
      "\u001b[0m\u001b[01;32mentities.csv\u001b[0m*  \u001b[01;32mget_data.ipynb\u001b[0m*\n"
     ]
    }
   ],
   "source": [
    "ls"
   ]
  },
  {
   "cell_type": "code",
   "execution_count": 3,
   "metadata": {},
   "outputs": [
    {
     "name": "stdout",
     "output_type": "stream",
     "text": [
      "Collecting pandas\n",
      "  Using cached pandas-1.3.5-cp37-cp37m-manylinux_2_17_x86_64.manylinux2014_x86_64.whl (11.3 MB)\n",
      "Collecting numpy>=1.17.3; platform_machine != \"aarch64\" and platform_machine != \"arm64\" and python_version < \"3.10\"\n",
      "  Downloading numpy-1.21.6-cp37-cp37m-manylinux_2_12_x86_64.manylinux2010_x86_64.whl (15.7 MB)\n",
      "\u001b[K     |████████████████████████████████| 15.7 MB 272 kB/s eta 0:00:01\n",
      "\u001b[?25hCollecting pytz>=2017.3\n",
      "  Downloading pytz-2022.2.1-py2.py3-none-any.whl (500 kB)\n",
      "\u001b[K     |████████████████████████████████| 500 kB 545 kB/s eta 0:00:01\n",
      "\u001b[?25hRequirement already satisfied: python-dateutil>=2.7.3 in /home/admin/Desktop/bagsnlp/Chatbot_AIA/env/lib/python3.7/site-packages (from pandas) (2.8.2)\n",
      "Requirement already satisfied: six>=1.5 in /home/admin/Desktop/bagsnlp/Chatbot_AIA/env/lib/python3.7/site-packages (from python-dateutil>=2.7.3->pandas) (1.16.0)\n",
      "Installing collected packages: numpy, pytz, pandas\n",
      "Successfully installed numpy-1.21.6 pandas-1.3.5 pytz-2022.2.1\n",
      "\u001b[33mWARNING: You are using pip version 20.1.1; however, version 22.2.2 is available.\n",
      "You should consider upgrading via the '/home/admin/Desktop/bagsnlp/Chatbot_AIA/env/bin/python -m pip install --upgrade pip' command.\u001b[0m\n",
      "Note: you may need to restart the kernel to use updated packages.\n"
     ]
    }
   ],
   "source": [
    "pip install pandas"
   ]
  },
  {
   "cell_type": "code",
   "execution_count": 51,
   "metadata": {},
   "outputs": [
    {
     "data": {
      "text/html": [
       "<div>\n",
       "<style scoped>\n",
       "    .dataframe tbody tr th:only-of-type {\n",
       "        vertical-align: middle;\n",
       "    }\n",
       "\n",
       "    .dataframe tbody tr th {\n",
       "        vertical-align: top;\n",
       "    }\n",
       "\n",
       "    .dataframe thead th {\n",
       "        text-align: right;\n",
       "    }\n",
       "</style>\n",
       "<table border=\"1\" class=\"dataframe\">\n",
       "  <thead>\n",
       "    <tr style=\"text-align: right;\">\n",
       "      <th></th>\n",
       "      <th>major_name</th>\n",
       "      <th>type_edu</th>\n",
       "      <th>point</th>\n",
       "      <th>career</th>\n",
       "      <th>tuition</th>\n",
       "      <th>subject_group</th>\n",
       "      <th>criteria</th>\n",
       "    </tr>\n",
       "  </thead>\n",
       "  <tbody>\n",
       "    <tr>\n",
       "      <th>0</th>\n",
       "      <td>kỹ thuật điện</td>\n",
       "      <td>chính quy@đại trà@kỹ sư tài năng</td>\n",
       "      <td>21.0</td>\n",
       "      <td>thiết kế thiết bị điện và điện tử công suất@th...</td>\n",
       "      <td>550.000đ</td>\n",
       "      <td>A00@A01</td>\n",
       "      <td>110</td>\n",
       "    </tr>\n",
       "    <tr>\n",
       "      <th>1</th>\n",
       "      <td>kỹ thuật hóa học</td>\n",
       "      <td>chính quy@đại trà@kỹ sư tài năng</td>\n",
       "      <td>21.5</td>\n",
       "      <td>quản lý vận hành và vận hành các hệ thống thiế...</td>\n",
       "      <td>550.000đ</td>\n",
       "      <td>B00@D07</td>\n",
       "      <td>130</td>\n",
       "    </tr>\n",
       "    <tr>\n",
       "      <th>2</th>\n",
       "      <td>kỹ thuật hàng không</td>\n",
       "      <td>chất lượng cao@tiên tiến</td>\n",
       "      <td>23.0</td>\n",
       "      <td>quản lý điều hành hoạt động bảo dưỡng máy bay@...</td>\n",
       "      <td>550.000đ</td>\n",
       "      <td>A01@A00</td>\n",
       "      <td>190</td>\n",
       "    </tr>\n",
       "    <tr>\n",
       "      <th>3</th>\n",
       "      <td>công nghệ may</td>\n",
       "      <td>chính quy@đại trà</td>\n",
       "      <td>24.0</td>\n",
       "      <td>thiết kế trong các dây chuyền sản xuất@thiết k...</td>\n",
       "      <td>550.000đ</td>\n",
       "      <td>A01@D07</td>\n",
       "      <td>230</td>\n",
       "    </tr>\n",
       "    <tr>\n",
       "      <th>4</th>\n",
       "      <td>công nghệ sinh học</td>\n",
       "      <td>chính quy@đại trà@kỹ sư tài năng</td>\n",
       "      <td>25.5</td>\n",
       "      <td>nghiên cứu trong phòng thí nghiệm ở các trường...</td>\n",
       "      <td>550.000đ</td>\n",
       "      <td>B00@A01</td>\n",
       "      <td>290</td>\n",
       "    </tr>\n",
       "  </tbody>\n",
       "</table>\n",
       "</div>"
      ],
      "text/plain": [
       "            major_name                          type_edu  point  \\\n",
       "0        kỹ thuật điện  chính quy@đại trà@kỹ sư tài năng   21.0   \n",
       "1     kỹ thuật hóa học  chính quy@đại trà@kỹ sư tài năng   21.5   \n",
       "2  kỹ thuật hàng không          chất lượng cao@tiên tiến   23.0   \n",
       "3        công nghệ may                 chính quy@đại trà   24.0   \n",
       "4   công nghệ sinh học  chính quy@đại trà@kỹ sư tài năng   25.5   \n",
       "\n",
       "                                              career   tuition subject_group  \\\n",
       "0  thiết kế thiết bị điện và điện tử công suất@th...  550.000đ       A00@A01   \n",
       "1  quản lý vận hành và vận hành các hệ thống thiế...  550.000đ       B00@D07   \n",
       "2  quản lý điều hành hoạt động bảo dưỡng máy bay@...  550.000đ       A01@A00   \n",
       "3  thiết kế trong các dây chuyền sản xuất@thiết k...  550.000đ       A01@D07   \n",
       "4  nghiên cứu trong phòng thí nghiệm ở các trường...  550.000đ       B00@A01   \n",
       "\n",
       "   criteria  \n",
       "0       110  \n",
       "1       130  \n",
       "2       190  \n",
       "3       230  \n",
       "4       290  "
      ]
     },
     "execution_count": 51,
     "metadata": {},
     "output_type": "execute_result"
    }
   ],
   "source": [
    "import pandas as pd\n",
    "df = pd.read_csv(\"entities.csv\", encoding=\"utf-8\")\n",
    "df.head()\n"
   ]
  },
  {
   "cell_type": "code",
   "execution_count": 55,
   "metadata": {},
   "outputs": [],
   "source": [
    "point = 20\n",
    "rows = df[df['point'] <= point]\n",
    "major_names = rows['major_name']\n",
    "major_names= list(major_names)"
   ]
  },
  {
   "cell_type": "code",
   "execution_count": 56,
   "metadata": {},
   "outputs": [
    {
     "data": {
      "text/plain": [
       "0"
      ]
     },
     "execution_count": 56,
     "metadata": {},
     "output_type": "execute_result"
    }
   ],
   "source": [
    "len(major_names)"
   ]
  },
  {
   "cell_type": "code",
   "execution_count": null,
   "metadata": {},
   "outputs": [],
   "source": [
    "def response_list_product(list):\n",
    "    return '\\n'.join('{}'.format(item) for item in list)"
   ]
  },
  {
   "cell_type": "code",
   "execution_count": null,
   "metadata": {},
   "outputs": [],
   "source": [
    "subject_group='A01'"
   ]
  },
  {
   "cell_type": "code",
   "execution_count": null,
   "metadata": {},
   "outputs": [
    {
     "data": {
      "text/html": [
       "<div>\n",
       "<style scoped>\n",
       "    .dataframe tbody tr th:only-of-type {\n",
       "        vertical-align: middle;\n",
       "    }\n",
       "\n",
       "    .dataframe tbody tr th {\n",
       "        vertical-align: top;\n",
       "    }\n",
       "\n",
       "    .dataframe thead th {\n",
       "        text-align: right;\n",
       "    }\n",
       "</style>\n",
       "<table border=\"1\" class=\"dataframe\">\n",
       "  <thead>\n",
       "    <tr style=\"text-align: right;\">\n",
       "      <th></th>\n",
       "      <th>subject_group</th>\n",
       "      <th>major_name</th>\n",
       "    </tr>\n",
       "  </thead>\n",
       "  <tbody>\n",
       "    <tr>\n",
       "      <th>0</th>\n",
       "      <td>A00@A01</td>\n",
       "      <td>kỹ thuật điện</td>\n",
       "    </tr>\n",
       "    <tr>\n",
       "      <th>1</th>\n",
       "      <td>B00@D07</td>\n",
       "      <td>kỹ thuật hóa học</td>\n",
       "    </tr>\n",
       "    <tr>\n",
       "      <th>2</th>\n",
       "      <td>A01@A00</td>\n",
       "      <td>kỹ thuật hàng không</td>\n",
       "    </tr>\n",
       "    <tr>\n",
       "      <th>3</th>\n",
       "      <td>A01@D07</td>\n",
       "      <td>công nghệ may</td>\n",
       "    </tr>\n",
       "    <tr>\n",
       "      <th>4</th>\n",
       "      <td>B00@A01</td>\n",
       "      <td>công nghệ sinh học</td>\n",
       "    </tr>\n",
       "    <tr>\n",
       "      <th>5</th>\n",
       "      <td>A01@A00</td>\n",
       "      <td>logistics và quản lý chuỗi cung ứng</td>\n",
       "    </tr>\n",
       "    <tr>\n",
       "      <th>6</th>\n",
       "      <td>A00@a</td>\n",
       "      <td>khoa học máy tính</td>\n",
       "    </tr>\n",
       "    <tr>\n",
       "      <th>7</th>\n",
       "      <td>A00@A01</td>\n",
       "      <td>kỹ thuật máy tính</td>\n",
       "    </tr>\n",
       "    <tr>\n",
       "      <th>8</th>\n",
       "      <td>A00@A01</td>\n",
       "      <td>công nghệ kỹ thuật ô tô</td>\n",
       "    </tr>\n",
       "    <tr>\n",
       "      <th>9</th>\n",
       "      <td>A01@A00</td>\n",
       "      <td>kỹ thuật điện tử viễn thông</td>\n",
       "    </tr>\n",
       "    <tr>\n",
       "      <th>10</th>\n",
       "      <td>D07@A01</td>\n",
       "      <td>kỹ thuật cơ điện tử</td>\n",
       "    </tr>\n",
       "    <tr>\n",
       "      <th>11</th>\n",
       "      <td>A00@A01</td>\n",
       "      <td>kỹ thuật điều khiển và tự động hóa</td>\n",
       "    </tr>\n",
       "  </tbody>\n",
       "</table>\n",
       "</div>"
      ],
      "text/plain": [
       "   subject_group                           major_name\n",
       "0        A00@A01                        kỹ thuật điện\n",
       "1        B00@D07                     kỹ thuật hóa học\n",
       "2        A01@A00                  kỹ thuật hàng không\n",
       "3        A01@D07                        công nghệ may\n",
       "4        B00@A01                   công nghệ sinh học\n",
       "5        A01@A00  logistics và quản lý chuỗi cung ứng\n",
       "6          A00@a                    khoa học máy tính\n",
       "7        A00@A01                    kỹ thuật máy tính\n",
       "8        A00@A01              công nghệ kỹ thuật ô tô\n",
       "9        A01@A00          kỹ thuật điện tử viễn thông\n",
       "10       D07@A01                  kỹ thuật cơ điện tử\n",
       "11       A00@A01   kỹ thuật điều khiển và tự động hóa"
      ]
     },
     "execution_count": 45,
     "metadata": {},
     "output_type": "execute_result"
    }
   ],
   "source": [
    "df_tmp = df[['subject_group','major_name']]\n",
    "df_tmp"
   ]
  },
  {
   "cell_type": "code",
   "execution_count": 64,
   "metadata": {},
   "outputs": [
    {
     "data": {
      "text/plain": [
       "['kỹ thuật điện',\n",
       " None,\n",
       " 'kỹ thuật hàng không',\n",
       " 'công nghệ may',\n",
       " 'công nghệ sinh học',\n",
       " 'logistics và quản lý chuỗi cung ứng',\n",
       " None,\n",
       " 'kỹ thuật máy tính',\n",
       " 'công nghệ kỹ thuật ô tô',\n",
       " 'kỹ thuật điện tử viễn thông',\n",
       " 'kỹ thuật cơ điện tử',\n",
       " 'kỹ thuật điều khiển và tự động hóa']"
      ]
     },
     "execution_count": 64,
     "metadata": {},
     "output_type": "execute_result"
    }
   ],
   "source": [
    "[item[1] if subject_group in item[0] else None for item in df_tmp.values]"
   ]
  },
  {
   "cell_type": "code",
   "execution_count": 2,
   "metadata": {},
   "outputs": [],
   "source": [
    "from underthesea import word_tokenize"
   ]
  },
  {
   "cell_type": "code",
   "execution_count": 4,
   "metadata": {},
   "outputs": [
    {
     "data": {
      "text/plain": [
       "['cái', 'cốc', 'nhỏ', 'xinh xinh']"
      ]
     },
     "execution_count": 4,
     "metadata": {},
     "output_type": "execute_result"
    }
   ],
   "source": [
    "word_tokenize(\"cái cốc nhỏ xinh xinh\")"
   ]
  },
  {
   "cell_type": "code",
   "execution_count": 68,
   "metadata": {},
   "outputs": [],
   "source": [
    "result = []\n",
    "for item in df_tmp.values:\n",
    "    if subject_group in item[0]:\n",
    "        result.append(item[1])"
   ]
  },
  {
   "cell_type": "code",
   "execution_count": 80,
   "metadata": {},
   "outputs": [
    {
     "name": "stdout",
     "output_type": "stream",
     "text": [
      "b\n"
     ]
    }
   ],
   "source": [
    "import random\n",
    "\n",
    "foo = ['a', 'b', 'c', 'd', 'e']\n",
    "print(random.choice(foo))"
   ]
  },
  {
   "cell_type": "code",
   "execution_count": 4,
   "metadata": {},
   "outputs": [],
   "source": [
    "f = open(\"../data/nlu.yml\",'r',encoding=\"UTF-8\")\n",
    "intents = open('../convert/intents.txt','w',encoding=\"UTF-8\")\n",
    "lines = f.readlines()\n",
    "for i in range(len(lines)):\n",
    "    if '- intent: 'in lines[i]:\n",
    "        intents.write(\"- \"+lines[i].replace('- intent: ',''))\n",
    "\n",
    "f.close()\n",
    "intents.close()"
   ]
  },
  {
   "cell_type": "code",
   "execution_count": 14,
   "metadata": {},
   "outputs": [
    {
     "data": {
      "text/plain": [
       "'kỹ thuật điện\\nkhoa học máy tính\\nkỹ thuật cơ điện tử'"
      ]
     },
     "execution_count": 14,
     "metadata": {},
     "output_type": "execute_result"
    }
   ],
   "source": [
    "response_list_product(major_names)"
   ]
  },
  {
   "cell_type": "code",
   "execution_count": 2,
   "metadata": {},
   "outputs": [],
   "source": [
    "f = open('examples.txt', 'w', encoding='utf-8')\n",
    "for line in root_lines:\n",
    "    f.write(line.split(',')[-2].replace('\"text\":\"','').replace('\"',''))\n",
    "    f.write('\\n')"
   ]
  },
  {
   "cell_type": "code",
   "execution_count": 1,
   "metadata": {},
   "outputs": [
    {
     "name": "stdout",
     "output_type": "stream",
     "text": [
      "True\n"
     ]
    }
   ],
   "source": [
    "s = 'a1'\n",
    "subjects = 'a1@a2@d2'\n",
    "print(s in subjects)"
   ]
  },
  {
   "cell_type": "code",
   "execution_count": 8,
   "metadata": {},
   "outputs": [
    {
     "data": {
      "text/plain": [
       "12"
      ]
     },
     "execution_count": 8,
     "metadata": {},
     "output_type": "execute_result"
    }
   ],
   "source": [
    "major_name = list(df.major_name)\n",
    "len(major_name)\n"
   ]
  },
  {
   "cell_type": "code",
   "execution_count": 11,
   "metadata": {},
   "outputs": [],
   "source": [
    "f = open(\"major_info.txt\", 'w', encoding=\"UTF-8\")\n",
    "for major in major_name:\n",
    "    f.write('    - cho hỏi ngành ['+str(major)+\"](major_name)\"+'\\n')\n",
    "f.close()"
   ]
  },
  {
   "cell_type": "code",
   "execution_count": 4,
   "metadata": {},
   "outputs": [],
   "source": []
  },
  {
   "cell_type": "code",
   "execution_count": 47,
   "metadata": {},
   "outputs": [],
   "source": [
    "f = open(\"major_type_edu.txt\", 'w', encoding=\"UTF-8\")\n",
    "for major in major_name[:17]:\n",
    "    f.write('Cho em hỏi ngành ['+str(major)+\"](major_name) đào tạo những hệ nào ạ\"+'\\n')\n",
    "for major in major_name[17:]:\n",
    "    f.write('Ngành ['+str(major) +\n",
    "            \"](major_name) đào tạo những hệ nào ạ\"+'\\n')"
   ]
  },
  {
   "cell_type": "code",
   "execution_count": 49,
   "metadata": {},
   "outputs": [],
   "source": [
    "f = open(\"major_point.txt\", 'w', encoding=\"UTF-8\")\n",
    "for major in major_name[:10]:\n",
    "    f.write('Cho em hỏi ngành ['+str(major) +\n",
    "            \"](major_name) năm nay lấy bao nhiêu điểm ạ\"+'\\n')\n",
    "for major in major_name[10:20]:\n",
    "    f.write('Điểm sàn ngành ['+str(major) +\n",
    "            \"](major_name)\"+'\\n')\n",
    "for major in major_name[20:]:\n",
    "    f.write('Năm nay ngành ['+str(major) +\n",
    "            \"](major_name) lấy bao nhiêu điểm ạ\"+'\\n')\n"
   ]
  },
  {
   "cell_type": "code",
   "execution_count": 54,
   "metadata": {},
   "outputs": [],
   "source": [
    "f = open(\"major_career.txt\", 'w', encoding=\"UTF-8\")\n",
    "for major in major_name[:17]:\n",
    "    f.write('Cho em hỏi cơ hội làm việc của ngành ['+str(major) +\n",
    "            \"](major_name)\"+'\\n')\n",
    "for major in major_name[17:]:\n",
    "    f.write('Học xong ngành ['+str(major) +\n",
    "            \"](major_name) thì làm gì\"+'\\n')\n"
   ]
  },
  {
   "cell_type": "code",
   "execution_count": 58,
   "metadata": {},
   "outputs": [],
   "source": [
    "f = open(\"major_tuition.txt\", 'w', encoding=\"UTF-8\")\n",
    "for major in major_name:\n",
    "    f.write('Học phí của ngành ['+str(major) +\n",
    "            \"](major_name)\"+'\\n')\n"
   ]
  },
  {
   "cell_type": "code",
   "execution_count": 62,
   "metadata": {},
   "outputs": [],
   "source": [
    "f = open(\"major_subject_group.txt\", 'w', encoding=\"UTF-8\")\n",
    "for major in major_name[:17]:\n",
    "    f.write('Em muốn học ngành ['+str(major) +\n",
    "            \"](major_name) thì theo khối gì ạ\"+'\\n')\n",
    "for major in major_name[17:]:\n",
    "    f.write('Ngành ['+str(major) +\n",
    "            \"](major_name) thi khối gì\"+'\\n')\n"
   ]
  },
  {
   "cell_type": "code",
   "execution_count": 68,
   "metadata": {},
   "outputs": [],
   "source": [
    "f = open(\"major_criteria.txt\", 'w', encoding=\"UTF-8\")\n",
    "for major in major_name[:10]:\n",
    "    f.write('Cho em hỏi ngành ['+str(major) +\n",
    "            \"](major_name) năm nay lấy bao nhiêu chỉ tiêu\"+'\\n')\n",
    "for major in major_name[10:20]:\n",
    "    f.write('Chỉ tiêu ngành ['+str(major) +\n",
    "            \"](major_name)\"+'\\n')\n",
    "for major in major_name[20:]:\n",
    "    f.write('Ngành ['+str(major) +\n",
    "            \"](major_name) của trường mình nhận bao nhiêu sinh viên ạ\"+'\\n')\n"
   ]
  },
  {
   "cell_type": "code",
   "execution_count": 10,
   "metadata": {},
   "outputs": [],
   "source": [
    "with open(\"majors.txt\",'r',encoding='utf8') as f:\n",
    "    lines = f.readlines()\n",
    "\n",
    "with open(\"major_info.txt\",'a',encoding='utf8') as f:\n",
    "    for major in lines:\n",
    "        f.write('    - cho hỏi về ngành ['+str(major.strip().lower())+\"](major_name)\"+'\\n')\n"
   ]
  },
  {
   "cell_type": "code",
   "execution_count": 9,
   "metadata": {},
   "outputs": [],
   "source": [
    "look_up_dict = {\n",
    "        \"A00\": ['A','A00','A0','a','a00','a0'],\n",
    "        \"A01\": ['A1','A01','a1','a01'],\n",
    "        \"B00\": ['B','B0','B00','b','b0','b00'],\n",
    "        \"D07\": ['D','D7','D07','d','d7','d07'],\n",
    "        \"C01\": ['C','C01','c','c01'],\n",
    "        }"
   ]
  },
  {
   "cell_type": "code",
   "execution_count": 10,
   "metadata": {},
   "outputs": [
    {
     "data": {
      "text/plain": [
       "['A',\n",
       " 'A00',\n",
       " 'A0',\n",
       " 'a',\n",
       " 'a00',\n",
       " 'a0',\n",
       " 'A1',\n",
       " 'A01',\n",
       " 'a1',\n",
       " 'a01',\n",
       " 'B',\n",
       " 'B0',\n",
       " 'B00',\n",
       " 'b',\n",
       " 'b0',\n",
       " 'b00',\n",
       " 'D',\n",
       " 'D7',\n",
       " 'D07',\n",
       " 'd',\n",
       " 'd7',\n",
       " 'd07',\n",
       " 'C',\n",
       " 'C01',\n",
       " 'c',\n",
       " 'c01']"
      ]
     },
     "execution_count": 10,
     "metadata": {},
     "output_type": "execute_result"
    }
   ],
   "source": [
    "subject = []\n",
    "for value in look_up_dict.values():\n",
    "    subject+=value\n",
    "subject"
   ]
  },
  {
   "cell_type": "markdown",
   "metadata": {},
   "source": [
    "context_ask_pass_subject_group    \n",
    "    - ngành này có tuyển sinh khối [a00](user_subject_group) không ạ\n",
    "    - em thi khối [a00](user_subject_group) có vào được không ạ"
   ]
  },
  {
   "cell_type": "markdown",
   "metadata": {},
   "source": [
    "ask_major_name_list_by_subject_group\n",
    "    - có tuyển sinh khối [A](user_subject_group) không\n",
    "    - các ngành tuyển sinh khối [A])(user_subject_group)"
   ]
  },
  {
   "cell_type": "markdown",
   "metadata": {},
   "source": [
    "ask_major_name_list_by_point\n",
    "    - những ngành nào lấy [15 điểm](user_point) ạ\n",
    "    - có ngành nào lấy ít hơn [15 điểm](user_point) không ạ"
   ]
  },
  {
   "cell_type": "markdown",
   "metadata": {},
   "source": [
    "context_ask_pass_point\n",
    "    - ngành này [15 điểm](user_point) có vào được không\n",
    "    - mình [15 điểm](user_point) có đỗ không ạ"
   ]
  },
  {
   "cell_type": "code",
   "execution_count": null,
   "metadata": {},
   "outputs": [],
   "source": [
    "subject_group"
   ]
  },
  {
   "cell_type": "code",
   "execution_count": 48,
   "metadata": {},
   "outputs": [],
   "source": [
    "with open('intens.txt','w',encoding='utf-8') as file:\n",
    "    for item in subject:\n",
    "        file.write(\"    - danh sách ngành tuyển sinh khối [\"+item+\"](user_subject_group)\\n\")\n",
    "        file.write(\"    - các ngành tuyển sinh khối [\"+item+\"](user_subject_group)\\n\")\n",
    "        file.write(\"    - những ngành nào tuyển sinh khối [\"+item+\"](user_subject_group) ạ\\n\")\n",
    "      "
   ]
  },
  {
   "cell_type": "code",
   "execution_count": 2,
   "metadata": {},
   "outputs": [
    {
     "data": {
      "text/plain": [
       "[1, 2, 3, 4, 5, 6, 7, 8, 9, 10]"
      ]
     },
     "execution_count": 2,
     "metadata": {},
     "output_type": "execute_result"
    }
   ],
   "source": [
    "points = [i for i in range(1,11,1)]\n",
    "points"
   ]
  },
  {
   "cell_type": "code",
   "execution_count": 4,
   "metadata": {},
   "outputs": [],
   "source": [
    "from random import randint"
   ]
  },
  {
   "cell_type": "markdown",
   "metadata": {},
   "source": [
    "    - ngành này [15 điểm](user_point) có vào được không\n",
    "    - mình [15 điểm](user_point) có đỗ không ạ"
   ]
  },
  {
   "cell_type": "code",
   "execution_count": 6,
   "metadata": {},
   "outputs": [],
   "source": [
    "f = open(\"point.txt\",'w')\n",
    "for point in points :\n",
    "    space = randint(1,5)\n",
    "    for i in range(1,10,space):\n",
    "        f.write(\"    - [\"+str(point) +\",\"+str(i) +\" điểm](user_point) đỗ được những ngành nào\\n\")\n",
    "        f.write(\"    - [\"+str(point) +\".\"+str(i) +\" điểm](user_point) đỗ được những ngành nào\\n\")\n"
   ]
  },
  {
   "cell_type": "code",
   "execution_count": null,
   "metadata": {},
   "outputs": [],
   "source": []
  }
 ],
 "metadata": {
  "kernelspec": {
   "display_name": "Python 3.7.9 ('env': venv)",
   "language": "python",
   "name": "python3"
  },
  "language_info": {
   "codemirror_mode": {
    "name": "ipython",
    "version": 3
   },
   "file_extension": ".py",
   "mimetype": "text/x-python",
   "name": "python",
   "nbconvert_exporter": "python",
   "pygments_lexer": "ipython3",
   "version": "3.7.9"
  },
  "orig_nbformat": 4,
  "vscode": {
   "interpreter": {
    "hash": "4fcb73b9e44c8225f5e6be0541ea799e1571dfc50a3b3ed3009f52464db25cc9"
   }
  }
 },
 "nbformat": 4,
 "nbformat_minor": 2
}
